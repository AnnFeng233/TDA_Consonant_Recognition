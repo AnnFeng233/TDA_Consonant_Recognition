{
 "cells": [
  {
   "cell_type": "code",
   "execution_count": 1,
   "metadata": {},
   "outputs": [],
   "source": [
    "import plotly.graph_objects as go\n",
    "import plotly.offline as py\n",
    "import plotly.express as px\n",
    "from plotly.subplots import make_subplots\n",
    "\n",
    "import numpy as np\n",
    "from numpy import argmax\n",
    "from praatio import textgrid\n",
    "import matplotlib.pyplot as plt\n",
    "import soundfile as sf\n",
    "from gudhi.point_cloud import timedelay\n",
    "from sklearn.decomposition import PCA\n",
    "from sklearn.preprocessing import StandardScaler\n",
    "from ripser import ripser\n",
    "from persim import plot_diagrams\n",
    "import plotly.io as pio\n",
    "import time\n",
    "%matplotlib qt5\n",
    "\n",
    "# head_tail_scissor is to erase signal in head and tail that has amplitude smaller than 0.05\n",
    "# can also use it to see if the length of renewing signal is greater than 500 or not \n",
    "def head_tail_scissor(sig):\n",
    "    valid_interval=[index for index in range(len(sig)) if (sig[index]>0.03)]\n",
    "    if len(valid_interval)==0:\n",
    "        return False,sig\n",
    "    head=min(valid_interval)\n",
    "    tail=max(valid_interval)\n",
    "    sig=sig[head:tail+1]\n",
    "    if tail-head<500:\n",
    "        return False,sig\n",
    "    return True,sig\n",
    "\n",
    "# principle_frequency_finder is to find the principle frequency of a speech signal\n",
    "def principle_frequency_finder(sig):\n",
    "    t=int(len(sig)/2)\n",
    "    corr=np.zeros(t)\n",
    "\n",
    "    for index in np.arange(t):\n",
    "        ACF_delay=sig[index:]\n",
    "        L=(t-index)/2\n",
    "        m = np.sum(sig[int(t-L):int(t+L+1)]**2) + np.sum(ACF_delay[int(t-L):int(t+L+1)]**2)\n",
    "        r = np.sum(sig[int(t-L):int(t+L+1)]*ACF_delay[int(t-L):int(t+L+1)])\n",
    "        corr[index] = 2*r/m\n",
    "\n",
    "    zc = np.zeros(corr.size-1)\n",
    "    zc[(corr[0:-1] < 0)*(corr[1::] > 0)] = 1\n",
    "    zc[(corr[0:-1] > 0)*(corr[1::] < 0)] = -1\n",
    "\n",
    "    admiss = np.zeros(corr.size)\n",
    "    admiss[0:-1] = zc\n",
    "    for i in range(1, corr.size):\n",
    "        if admiss[i] == 0:\n",
    "            admiss[i] = admiss[i-1]\n",
    "\n",
    "    maxes = np.zeros(corr.size)\n",
    "    maxes[1:-1] = (np.sign(corr[1:-1] - corr[0:-2])==1)*(np.sign(corr[1:-1] - corr[2::])==1)\n",
    "    maxidx = np.arange(corr.size)\n",
    "    maxidx = maxidx[maxes == 1]\n",
    "    max_index = 0\n",
    "    if len(corr[maxidx]) > 0:\n",
    "        max_index = maxidx[np.argmax(corr[maxidx])]\n",
    "\n",
    "    return (max_index, corr)"
   ]
  },
  {
   "cell_type": "code",
   "execution_count": 2,
   "metadata": {},
   "outputs": [
    {
     "name": "stdout",
     "output_type": "stream",
     "text": [
      "dimension =  100\n",
      "There are  24  phones in the specified list.\n"
     ]
    }
   ],
   "source": [
    "inputFile=\"E:\\\\MFA\\\\output\\\\ALL_049_F_ENG_ENG_HT1.Textgrid\"\n",
    "tg=textgrid.openTextgrid(inputFile,includeEmptyIntervals=False)\n",
    "phoneTier=tg.tierDict['phones']\n",
    "\n",
    "specified_vowel=['m']\n",
    "wavFile='E:\\\\MFA\\\\input\\\\ALL_049_F_ENG_ENG_HT1.wav'\n",
    "M=100\n",
    "print('dimension = ',M)\n",
    "max_edge_length=1\n",
    "\n",
    "sig,samplerate=sf.read(wavFile)\n",
    "specified_vowel_list=[ele for ele in phoneTier.entryList if ele[2] in specified_vowel]\n",
    "\n",
    "# wav_fraction_finder is to find the corresponding wav signal according to interval\n",
    "def wav_fraction_finder(start_time, end_time):\n",
    "    sig_fraction=sig[int(start_time*samplerate):int(end_time*samplerate)]\n",
    "    return sig_fraction\n",
    "\n",
    "specified_valid_vowel_list=[head_tail_scissor(wav_fraction_finder(ele[0],ele[1]))[1] for ele in specified_vowel_list if head_tail_scissor(wav_fraction_finder(ele[0],ele[1]))[0]]\n",
    "print('There are ',str(len(specified_valid_vowel_list)),' phones in the specified list.')\n",
    "\n",
    "T=[0]*len(specified_valid_vowel_list)\n",
    "for i in range(len(specified_valid_vowel_list)):\n",
    "    T[i],corr=principle_frequency_finder(np.array(specified_valid_vowel_list[i]))\n",
    "    T[i]=T[i]/samplerate\n",
    "\n",
    "delay=[round(ele*samplerate*2*np.pi/M) for ele in T]\n",
    "for element in range(len(delay)):\n",
    "    if delay[element]==0:\n",
    "        delay[element]=1\n"
   ]
  },
  {
   "cell_type": "code",
   "execution_count": 3,
   "metadata": {},
   "outputs": [
    {
     "name": "stdout",
     "output_type": "stream",
     "text": [
      "delay =  4\n",
      "[0.43953495 0.42053885 0.06167047]\n",
      "71\n",
      "The computation time =  0.006001472473144531\n"
     ]
    },
    {
     "name": "stderr",
     "output_type": "stream",
     "text": [
      "d:\\python\\lib\\site-packages\\ripser\\ripser.py:253: UserWarning:\n",
      "\n",
      "The input point cloud has more columns than rows; did you mean to transpose?\n",
      "\n"
     ]
    },
    {
     "name": "stdout",
     "output_type": "stream",
     "text": [
      "maximal lifetime =  0.71845693141222\n"
     ]
    },
    {
     "data": {
      "application/vnd.plotly.v1+json": {
       "config": {
        "plotlyServerURL": "https://plot.ly"
       },
       "data": [
        {
         "line": {
          "color": "#0000b3",
          "width": 1
         },
         "marker": {
          "color": [
           1.1913592979798988,
           0.07789173291262655,
           -1.271700223223538,
           0.27923998609064965,
           1.1157290447143877,
           -0.7601799762648568,
           -0.8108059373239758,
           1.1527964711328713,
           0.5369317858996727,
           -1.3250717509829273,
           -0.1348826301837145,
           1.3264074793141658,
           -0.4316790397582664,
           -1.1392389794509439,
           0.9259872770165807,
           0.8685917556451117,
           -1.2081952447362847,
           -0.4734947134693062,
           1.3621008097092193,
           -0.0895059136019632,
           -1.337372131924474,
           0.6179268918136775,
           1.15039442431529,
           -0.9810121466034788,
           -0.7971544925933565,
           1.257333995770687,
           0.2674119077945401,
           -1.3879992552375935,
           0.2954773618356507,
           1.3267939693491773,
           -0.7119990866988509,
           -1.0576672146886028,
           1.0968345002485935,
           0.5913838769323772,
           -1.3555459251596231,
           -0.03042739902424448,
           1.4184567130748045,
           -0.4102075886202408,
           -1.2511414583006162,
           0.8701118539466901,
           0.8824851600087359,
           -1.246726827498771,
           -0.3492964525255751,
           1.447187716055743,
           -0.10871100574457594,
           -1.3715042908812334,
           0.6042137402842865,
           1.1168200488637592,
           -1.0868742396267057,
           -0.6550355450633636,
           1.3893343541551915,
           0.21170371359778747,
           -1.4407387447906874,
           0.3022168619775051,
           1.2964643769468418,
           -0.8622680944511757,
           -0.9453402330532785,
           1.263902320698287,
           0.5469000708252919,
           -1.4215134560219658,
           -0.05839167869686668,
           1.4108658948835544,
           -0.5576849296477588,
           -1.1810882123728408,
           1.0542171342569822,
           0.8545286896917176,
           -1.3125181356454871,
           -0.40168191065171294,
           1.44835786853543,
           -0.19196345180235347,
           -1.4017407699565838
          ],
          "colorscale": [
           [
            0,
            "#440154"
           ],
           [
            0.1111111111111111,
            "#482878"
           ],
           [
            0.2222222222222222,
            "#3e4989"
           ],
           [
            0.3333333333333333,
            "#31688e"
           ],
           [
            0.4444444444444444,
            "#26828e"
           ],
           [
            0.5555555555555556,
            "#1f9e89"
           ],
           [
            0.6666666666666666,
            "#35b779"
           ],
           [
            0.7777777777777778,
            "#6ece58"
           ],
           [
            0.8888888888888888,
            "#b5de2b"
           ],
           [
            1,
            "#fde725"
           ]
          ],
          "size": 4
         },
         "type": "scatter3d",
         "x": [
          -0.3642119634812654,
          -1.0739467866911427,
          -1.0786116484051986,
          -0.2526148893682222,
          0.8045055504184064,
          1.2633955100886516,
          0.7793474938477638,
          -0.2556928875013495,
          -1.0886131627046887,
          -1.216372175618495,
          -0.46752390638115815,
          0.7147398700277457,
          1.35608263582377,
          0.952022837781455,
          -0.10863325352515418,
          -1.0661360616412903,
          -1.3105766113268416,
          -0.6090730235723901,
          0.57506395104469,
          1.3602662336425704,
          1.102220019676996,
          0.03163156004855752,
          -0.9746312369188844,
          -1.3380958784965953,
          -0.7791370340205134,
          0.4220137034194136,
          1.3192893102533536,
          1.2116295363685852,
          0.22414582381049594,
          -0.8736435945164105,
          -1.359748024862926,
          -0.9225024703366039,
          0.2355790675958403,
          1.2600302430533388,
          1.3152803882766484,
          0.3957011377755784,
          -0.7489264014860223,
          -1.367596998564527,
          -1.0622440814672247,
          0.05996984204890347,
          1.178268322789022,
          1.3983202216036281,
          0.5657143680270954,
          -0.625792182588326,
          -1.3552289526494379,
          -1.1807551749634129,
          -0.12411773549442721,
          1.0865944113449109,
          1.4597783356080198,
          0.7214182289609011,
          -0.48164633960884023,
          -1.3314586081274664,
          -1.2860488956750606,
          -0.2830622557828104,
          0.9618080503653994,
          1.4997336499414424,
          0.8855139524288957,
          -0.3524212940780786,
          -1.2652647478692813,
          -1.3537805720041878,
          -0.4744824824530627,
          0.8441729928842053,
          1.5006048085018857,
          1.0185990168247467,
          -0.15515725123626,
          -1.1951178478477829,
          -1.409052455281871,
          -0.6185456867287753,
          0.6356661478889429,
          1.4915015533027953,
          1.179855797801332
         ],
         "y": [
          1.1133309155480795,
          0.4359010755897236,
          -0.5700378400700519,
          -1.2121950803425272,
          -0.9773194477303465,
          0.038299809751363885,
          1.0067433400351382,
          1.2529230636802373,
          0.646071938996923,
          -0.4509887716038012,
          -1.2560865429153505,
          -1.140101131958699,
          -0.15875833133107786,
          0.9633524323241175,
          1.3550722934645147,
          0.7841609208483389,
          -0.29986711119587117,
          -1.2284032224407142,
          -1.2680639296603171,
          -0.3167521819281653,
          0.8441307134833265,
          1.3729263361477821,
          0.9417961816311953,
          -0.15363735449656052,
          -1.1453529040418973,
          -1.3398265096136395,
          -0.5154685438659521,
          0.7110300795571479,
          1.3751826984758582,
          1.0650756762005766,
          0.03604050768769575,
          -1.0538261058622551,
          -1.4004328455323172,
          -0.6879639945725482,
          0.5477878873225297,
          1.356874835012657,
          1.1831584695441615,
          0.20647827877857766,
          -0.940836713946352,
          -1.4374289621578549,
          -0.8556927470439328,
          0.3925865887762168,
          1.3171450177869264,
          1.2896681980526343,
          0.37258821134491354,
          -0.8215113208100996,
          -1.4540134695725107,
          -0.9983182764414623,
          0.21950061288352707,
          1.2695309134251453,
          1.3711841416301929,
          0.5265728850609536,
          -0.683514970300005,
          -1.4507579820204608,
          -1.1418789464516688,
          0.06855538929628181,
          1.1837019872575296,
          1.4356627555199533,
          0.6907935760689506,
          -0.5517413401070502,
          -1.4124944646909625,
          -1.2454631719096947,
          -0.14228952929914243,
          1.096165479782398,
          1.476147745841728,
          0.8219249067606115,
          -0.35102618010006087,
          -1.3557363925771038,
          -1.3669899704415076,
          -0.2997281212080253,
          0.9164385446720801
         ],
         "z": [
          1.1913592979798988,
          0.07789173291262655,
          -1.271700223223538,
          0.27923998609064965,
          1.1157290447143877,
          -0.7601799762648568,
          -0.8108059373239758,
          1.1527964711328713,
          0.5369317858996727,
          -1.3250717509829273,
          -0.1348826301837145,
          1.3264074793141658,
          -0.4316790397582664,
          -1.1392389794509439,
          0.9259872770165807,
          0.8685917556451117,
          -1.2081952447362847,
          -0.4734947134693062,
          1.3621008097092193,
          -0.0895059136019632,
          -1.337372131924474,
          0.6179268918136775,
          1.15039442431529,
          -0.9810121466034788,
          -0.7971544925933565,
          1.257333995770687,
          0.2674119077945401,
          -1.3879992552375935,
          0.2954773618356507,
          1.3267939693491773,
          -0.7119990866988509,
          -1.0576672146886028,
          1.0968345002485935,
          0.5913838769323772,
          -1.3555459251596231,
          -0.03042739902424448,
          1.4184567130748045,
          -0.4102075886202408,
          -1.2511414583006162,
          0.8701118539466901,
          0.8824851600087359,
          -1.246726827498771,
          -0.3492964525255751,
          1.447187716055743,
          -0.10871100574457594,
          -1.3715042908812334,
          0.6042137402842865,
          1.1168200488637592,
          -1.0868742396267057,
          -0.6550355450633636,
          1.3893343541551915,
          0.21170371359778747,
          -1.4407387447906874,
          0.3022168619775051,
          1.2964643769468418,
          -0.8622680944511757,
          -0.9453402330532785,
          1.263902320698287,
          0.5469000708252919,
          -1.4215134560219658,
          -0.05839167869686668,
          1.4108658948835544,
          -0.5576849296477588,
          -1.1810882123728408,
          1.0542171342569822,
          0.8545286896917176,
          -1.3125181356454871,
          -0.40168191065171294,
          1.44835786853543,
          -0.19196345180235347,
          -1.4017407699565838
         ]
        }
       ],
       "layout": {
        "autosize": false,
        "height": 800,
        "scene": {
         "aspectmode": "manual",
         "aspectratio": {
          "x": 1,
          "y": 1,
          "z": 0.7
         },
         "camera": {
          "eye": {
           "x": 1.2,
           "y": 1.2,
           "z": 1.2
          },
          "up": {
           "x": 0,
           "y": 0,
           "z": 1
          }
         }
        },
        "template": {
         "data": {
          "bar": [
           {
            "error_x": {
             "color": "#2a3f5f"
            },
            "error_y": {
             "color": "#2a3f5f"
            },
            "marker": {
             "line": {
              "color": "#E5ECF6",
              "width": 0.5
             },
             "pattern": {
              "fillmode": "overlay",
              "size": 10,
              "solidity": 0.2
             }
            },
            "type": "bar"
           }
          ],
          "barpolar": [
           {
            "marker": {
             "line": {
              "color": "#E5ECF6",
              "width": 0.5
             },
             "pattern": {
              "fillmode": "overlay",
              "size": 10,
              "solidity": 0.2
             }
            },
            "type": "barpolar"
           }
          ],
          "carpet": [
           {
            "aaxis": {
             "endlinecolor": "#2a3f5f",
             "gridcolor": "white",
             "linecolor": "white",
             "minorgridcolor": "white",
             "startlinecolor": "#2a3f5f"
            },
            "baxis": {
             "endlinecolor": "#2a3f5f",
             "gridcolor": "white",
             "linecolor": "white",
             "minorgridcolor": "white",
             "startlinecolor": "#2a3f5f"
            },
            "type": "carpet"
           }
          ],
          "choropleth": [
           {
            "colorbar": {
             "outlinewidth": 0,
             "ticks": ""
            },
            "type": "choropleth"
           }
          ],
          "contour": [
           {
            "colorbar": {
             "outlinewidth": 0,
             "ticks": ""
            },
            "colorscale": [
             [
              0,
              "#0d0887"
             ],
             [
              0.1111111111111111,
              "#46039f"
             ],
             [
              0.2222222222222222,
              "#7201a8"
             ],
             [
              0.3333333333333333,
              "#9c179e"
             ],
             [
              0.4444444444444444,
              "#bd3786"
             ],
             [
              0.5555555555555556,
              "#d8576b"
             ],
             [
              0.6666666666666666,
              "#ed7953"
             ],
             [
              0.7777777777777778,
              "#fb9f3a"
             ],
             [
              0.8888888888888888,
              "#fdca26"
             ],
             [
              1,
              "#f0f921"
             ]
            ],
            "type": "contour"
           }
          ],
          "contourcarpet": [
           {
            "colorbar": {
             "outlinewidth": 0,
             "ticks": ""
            },
            "type": "contourcarpet"
           }
          ],
          "heatmap": [
           {
            "colorbar": {
             "outlinewidth": 0,
             "ticks": ""
            },
            "colorscale": [
             [
              0,
              "#0d0887"
             ],
             [
              0.1111111111111111,
              "#46039f"
             ],
             [
              0.2222222222222222,
              "#7201a8"
             ],
             [
              0.3333333333333333,
              "#9c179e"
             ],
             [
              0.4444444444444444,
              "#bd3786"
             ],
             [
              0.5555555555555556,
              "#d8576b"
             ],
             [
              0.6666666666666666,
              "#ed7953"
             ],
             [
              0.7777777777777778,
              "#fb9f3a"
             ],
             [
              0.8888888888888888,
              "#fdca26"
             ],
             [
              1,
              "#f0f921"
             ]
            ],
            "type": "heatmap"
           }
          ],
          "heatmapgl": [
           {
            "colorbar": {
             "outlinewidth": 0,
             "ticks": ""
            },
            "colorscale": [
             [
              0,
              "#0d0887"
             ],
             [
              0.1111111111111111,
              "#46039f"
             ],
             [
              0.2222222222222222,
              "#7201a8"
             ],
             [
              0.3333333333333333,
              "#9c179e"
             ],
             [
              0.4444444444444444,
              "#bd3786"
             ],
             [
              0.5555555555555556,
              "#d8576b"
             ],
             [
              0.6666666666666666,
              "#ed7953"
             ],
             [
              0.7777777777777778,
              "#fb9f3a"
             ],
             [
              0.8888888888888888,
              "#fdca26"
             ],
             [
              1,
              "#f0f921"
             ]
            ],
            "type": "heatmapgl"
           }
          ],
          "histogram": [
           {
            "marker": {
             "pattern": {
              "fillmode": "overlay",
              "size": 10,
              "solidity": 0.2
             }
            },
            "type": "histogram"
           }
          ],
          "histogram2d": [
           {
            "colorbar": {
             "outlinewidth": 0,
             "ticks": ""
            },
            "colorscale": [
             [
              0,
              "#0d0887"
             ],
             [
              0.1111111111111111,
              "#46039f"
             ],
             [
              0.2222222222222222,
              "#7201a8"
             ],
             [
              0.3333333333333333,
              "#9c179e"
             ],
             [
              0.4444444444444444,
              "#bd3786"
             ],
             [
              0.5555555555555556,
              "#d8576b"
             ],
             [
              0.6666666666666666,
              "#ed7953"
             ],
             [
              0.7777777777777778,
              "#fb9f3a"
             ],
             [
              0.8888888888888888,
              "#fdca26"
             ],
             [
              1,
              "#f0f921"
             ]
            ],
            "type": "histogram2d"
           }
          ],
          "histogram2dcontour": [
           {
            "colorbar": {
             "outlinewidth": 0,
             "ticks": ""
            },
            "colorscale": [
             [
              0,
              "#0d0887"
             ],
             [
              0.1111111111111111,
              "#46039f"
             ],
             [
              0.2222222222222222,
              "#7201a8"
             ],
             [
              0.3333333333333333,
              "#9c179e"
             ],
             [
              0.4444444444444444,
              "#bd3786"
             ],
             [
              0.5555555555555556,
              "#d8576b"
             ],
             [
              0.6666666666666666,
              "#ed7953"
             ],
             [
              0.7777777777777778,
              "#fb9f3a"
             ],
             [
              0.8888888888888888,
              "#fdca26"
             ],
             [
              1,
              "#f0f921"
             ]
            ],
            "type": "histogram2dcontour"
           }
          ],
          "mesh3d": [
           {
            "colorbar": {
             "outlinewidth": 0,
             "ticks": ""
            },
            "type": "mesh3d"
           }
          ],
          "parcoords": [
           {
            "line": {
             "colorbar": {
              "outlinewidth": 0,
              "ticks": ""
             }
            },
            "type": "parcoords"
           }
          ],
          "pie": [
           {
            "automargin": true,
            "type": "pie"
           }
          ],
          "scatter": [
           {
            "fillpattern": {
             "fillmode": "overlay",
             "size": 10,
             "solidity": 0.2
            },
            "type": "scatter"
           }
          ],
          "scatter3d": [
           {
            "line": {
             "colorbar": {
              "outlinewidth": 0,
              "ticks": ""
             }
            },
            "marker": {
             "colorbar": {
              "outlinewidth": 0,
              "ticks": ""
             }
            },
            "type": "scatter3d"
           }
          ],
          "scattercarpet": [
           {
            "marker": {
             "colorbar": {
              "outlinewidth": 0,
              "ticks": ""
             }
            },
            "type": "scattercarpet"
           }
          ],
          "scattergeo": [
           {
            "marker": {
             "colorbar": {
              "outlinewidth": 0,
              "ticks": ""
             }
            },
            "type": "scattergeo"
           }
          ],
          "scattergl": [
           {
            "marker": {
             "colorbar": {
              "outlinewidth": 0,
              "ticks": ""
             }
            },
            "type": "scattergl"
           }
          ],
          "scattermapbox": [
           {
            "marker": {
             "colorbar": {
              "outlinewidth": 0,
              "ticks": ""
             }
            },
            "type": "scattermapbox"
           }
          ],
          "scatterpolar": [
           {
            "marker": {
             "colorbar": {
              "outlinewidth": 0,
              "ticks": ""
             }
            },
            "type": "scatterpolar"
           }
          ],
          "scatterpolargl": [
           {
            "marker": {
             "colorbar": {
              "outlinewidth": 0,
              "ticks": ""
             }
            },
            "type": "scatterpolargl"
           }
          ],
          "scatterternary": [
           {
            "marker": {
             "colorbar": {
              "outlinewidth": 0,
              "ticks": ""
             }
            },
            "type": "scatterternary"
           }
          ],
          "surface": [
           {
            "colorbar": {
             "outlinewidth": 0,
             "ticks": ""
            },
            "colorscale": [
             [
              0,
              "#0d0887"
             ],
             [
              0.1111111111111111,
              "#46039f"
             ],
             [
              0.2222222222222222,
              "#7201a8"
             ],
             [
              0.3333333333333333,
              "#9c179e"
             ],
             [
              0.4444444444444444,
              "#bd3786"
             ],
             [
              0.5555555555555556,
              "#d8576b"
             ],
             [
              0.6666666666666666,
              "#ed7953"
             ],
             [
              0.7777777777777778,
              "#fb9f3a"
             ],
             [
              0.8888888888888888,
              "#fdca26"
             ],
             [
              1,
              "#f0f921"
             ]
            ],
            "type": "surface"
           }
          ],
          "table": [
           {
            "cells": {
             "fill": {
              "color": "#EBF0F8"
             },
             "line": {
              "color": "white"
             }
            },
            "header": {
             "fill": {
              "color": "#C8D4E3"
             },
             "line": {
              "color": "white"
             }
            },
            "type": "table"
           }
          ]
         },
         "layout": {
          "annotationdefaults": {
           "arrowcolor": "#2a3f5f",
           "arrowhead": 0,
           "arrowwidth": 1
          },
          "autotypenumbers": "strict",
          "coloraxis": {
           "colorbar": {
            "outlinewidth": 0,
            "ticks": ""
           }
          },
          "colorscale": {
           "diverging": [
            [
             0,
             "#8e0152"
            ],
            [
             0.1,
             "#c51b7d"
            ],
            [
             0.2,
             "#de77ae"
            ],
            [
             0.3,
             "#f1b6da"
            ],
            [
             0.4,
             "#fde0ef"
            ],
            [
             0.5,
             "#f7f7f7"
            ],
            [
             0.6,
             "#e6f5d0"
            ],
            [
             0.7,
             "#b8e186"
            ],
            [
             0.8,
             "#7fbc41"
            ],
            [
             0.9,
             "#4d9221"
            ],
            [
             1,
             "#276419"
            ]
           ],
           "sequential": [
            [
             0,
             "#0d0887"
            ],
            [
             0.1111111111111111,
             "#46039f"
            ],
            [
             0.2222222222222222,
             "#7201a8"
            ],
            [
             0.3333333333333333,
             "#9c179e"
            ],
            [
             0.4444444444444444,
             "#bd3786"
            ],
            [
             0.5555555555555556,
             "#d8576b"
            ],
            [
             0.6666666666666666,
             "#ed7953"
            ],
            [
             0.7777777777777778,
             "#fb9f3a"
            ],
            [
             0.8888888888888888,
             "#fdca26"
            ],
            [
             1,
             "#f0f921"
            ]
           ],
           "sequentialminus": [
            [
             0,
             "#0d0887"
            ],
            [
             0.1111111111111111,
             "#46039f"
            ],
            [
             0.2222222222222222,
             "#7201a8"
            ],
            [
             0.3333333333333333,
             "#9c179e"
            ],
            [
             0.4444444444444444,
             "#bd3786"
            ],
            [
             0.5555555555555556,
             "#d8576b"
            ],
            [
             0.6666666666666666,
             "#ed7953"
            ],
            [
             0.7777777777777778,
             "#fb9f3a"
            ],
            [
             0.8888888888888888,
             "#fdca26"
            ],
            [
             1,
             "#f0f921"
            ]
           ]
          },
          "colorway": [
           "#636efa",
           "#EF553B",
           "#00cc96",
           "#ab63fa",
           "#FFA15A",
           "#19d3f3",
           "#FF6692",
           "#B6E880",
           "#FF97FF",
           "#FECB52"
          ],
          "font": {
           "color": "#2a3f5f"
          },
          "geo": {
           "bgcolor": "white",
           "lakecolor": "white",
           "landcolor": "#E5ECF6",
           "showlakes": true,
           "showland": true,
           "subunitcolor": "white"
          },
          "hoverlabel": {
           "align": "left"
          },
          "hovermode": "closest",
          "mapbox": {
           "style": "light"
          },
          "paper_bgcolor": "white",
          "plot_bgcolor": "#E5ECF6",
          "polar": {
           "angularaxis": {
            "gridcolor": "white",
            "linecolor": "white",
            "ticks": ""
           },
           "bgcolor": "#E5ECF6",
           "radialaxis": {
            "gridcolor": "white",
            "linecolor": "white",
            "ticks": ""
           }
          },
          "scene": {
           "xaxis": {
            "backgroundcolor": "#E5ECF6",
            "gridcolor": "white",
            "gridwidth": 2,
            "linecolor": "white",
            "showbackground": true,
            "ticks": "",
            "zerolinecolor": "white"
           },
           "yaxis": {
            "backgroundcolor": "#E5ECF6",
            "gridcolor": "white",
            "gridwidth": 2,
            "linecolor": "white",
            "showbackground": true,
            "ticks": "",
            "zerolinecolor": "white"
           },
           "zaxis": {
            "backgroundcolor": "#E5ECF6",
            "gridcolor": "white",
            "gridwidth": 2,
            "linecolor": "white",
            "showbackground": true,
            "ticks": "",
            "zerolinecolor": "white"
           }
          },
          "shapedefaults": {
           "line": {
            "color": "#2a3f5f"
           }
          },
          "ternary": {
           "aaxis": {
            "gridcolor": "white",
            "linecolor": "white",
            "ticks": ""
           },
           "baxis": {
            "gridcolor": "white",
            "linecolor": "white",
            "ticks": ""
           },
           "bgcolor": "#E5ECF6",
           "caxis": {
            "gridcolor": "white",
            "linecolor": "white",
            "ticks": ""
           }
          },
          "title": {
           "x": 0.05
          },
          "xaxis": {
           "automargin": true,
           "gridcolor": "white",
           "linecolor": "white",
           "ticks": "",
           "title": {
            "standoff": 15
           },
           "zerolinecolor": "white",
           "zerolinewidth": 2
          },
          "yaxis": {
           "automargin": true,
           "gridcolor": "white",
           "linecolor": "white",
           "ticks": "",
           "title": {
            "standoff": 15
           },
           "zerolinecolor": "white",
           "zerolinewidth": 2
          }
         }
        },
        "width": 800
       }
      }
     },
     "metadata": {},
     "output_type": "display_data"
    }
   ],
   "source": [
    "element=5\n",
    "skip=10\n",
    "print('delay = ',delay[element])\n",
    "data=specified_valid_vowel_list[element]\n",
    "if delay[element]*M>len(data):\n",
    "    delay[element]=int(np.floor(len(data)/M))\n",
    "if delay[element]==0:\n",
    "    delay[element]=1\n",
    "point_Cloud=timedelay.TimeDelayEmbedding(M, delay[element], skip)\n",
    "Points=point_Cloud(data)\n",
    "X=StandardScaler().fit_transform(Points)\n",
    "pca=PCA(n_components=3,whiten=True)\n",
    "X_PCA=pca.fit_transform(X)\n",
    "print(pca.explained_variance_ratio_)\n",
    "\n",
    "\n",
    "point_Cloud=timedelay.TimeDelayEmbedding(M,delay[element],skip)\n",
    "Points=point_Cloud(data)\n",
    "print(len(Points))\n",
    "t=time.time()\n",
    "dgms = ripser(Points,maxdim=1)['dgms']\n",
    "print('The computation time = ',time.time()-t)\n",
    "plot_diagrams(dgms,lifetime=True)\n",
    "\n",
    "dgms=dgms[1]\n",
    "persistent_time=[ele[1]-ele[0] for ele in dgms]            \n",
    "index=argmax(persistent_time)\n",
    "birth_date=[ele[0] for ele in dgms]\n",
    "lifetime=persistent_time[index]\n",
    "print('maximal lifetime = ', lifetime)\n",
    "\n",
    "fig = go.Figure(data=go.Scatter3d(\n",
    "    x=X_PCA[:,0], y=X_PCA[:,1], z=X_PCA[:,2],\n",
    "    marker=dict(\n",
    "        size=4,\n",
    "        color=X_PCA[:,2],\n",
    "        colorscale='Viridis',#'sunset','thermal',\n",
    "    ),\n",
    "    line=dict(\n",
    "        color='#0000b3',\n",
    "        width=1\n",
    "    )\n",
    "))\n",
    "\n",
    "fig.update_layout(\n",
    "    width=800,\n",
    "    height=800,\n",
    "    template='plotly',\n",
    "    autosize=False,\n",
    "    scene=dict(\n",
    "        camera=dict(\n",
    "            up=dict(\n",
    "                x=0,\n",
    "                y=0,\n",
    "                z=1\n",
    "            ),\n",
    "            eye=dict(\n",
    "                x=1.2,\n",
    "                y=1.2,\n",
    "                z=1.2,\n",
    "            )\n",
    "        ),\n",
    "        aspectratio = dict( x=1, y=1, z=0.7 ),\n",
    "        aspectmode = 'manual',\n",
    "    ),\n",
    ")\n",
    "fig.show()\n",
    "#pio.write_image(fig, 'E:/Topological_Analysis_of_Time_Series/pictures/pdf_graph_raw/PCA_S'+str(skip)+'.pdf',scale=6, width=1080, height=1080)\n",
    "#py.plot(fig, filename='E:/Topological_Analysis_of_Time_Series/pictures/vector_graph/M_'+str(M), image='svg')"
   ]
  },
  {
   "cell_type": "code",
   "execution_count": 7,
   "metadata": {},
   "outputs": [
    {
     "data": {
      "application/vnd.plotly.v1+json": {
       "config": {
        "plotlyServerURL": "https://plot.ly"
       },
       "data": [
        {
         "marker": {
          "color": "indianred"
         },
         "name": "Computation Time (seconds)",
         "text": [
          "2.956",
          "0.035",
          "0.005"
         ],
         "textposition": "auto",
         "type": "bar",
         "x": [
          "skip=1",
          "skip=5",
          "skip=10"
         ],
         "xaxis": "x",
         "y": [
          2.956052065,
          0.034854889,
          0.005007029
         ],
         "yaxis": "y"
        },
        {
         "marker": {
          "color": "lightsalmon"
         },
         "name": "Maximal Persistence",
         "text": [
          "0.77",
          "0.74",
          "0.72"
         ],
         "textposition": "auto",
         "type": "bar",
         "x": [
          "skip=1",
          "skip=5",
          "skip=10"
         ],
         "xaxis": "x2",
         "y": [
          0.770462465,
          0.741294526,
          0.718456931
         ],
         "yaxis": "y2"
        },
        {
         "marker": {
          "color": "#ffb84d"
         },
         "name": "Number of Points",
         "text": [
          "703",
          "141",
          "71"
         ],
         "textposition": "auto",
         "type": "bar",
         "x": [
          "skip=1",
          "skip=5",
          "skip=10"
         ],
         "xaxis": "x3",
         "y": [
          703,
          141,
          71
         ],
         "yaxis": "y3"
        }
       ],
       "layout": {
        "height": 200,
        "margin": {
         "b": 1,
         "l": 1,
         "r": 1,
         "t": 1
        },
        "template": {
         "data": {
          "bar": [
           {
            "error_x": {
             "color": "rgb(36,36,36)"
            },
            "error_y": {
             "color": "rgb(36,36,36)"
            },
            "marker": {
             "line": {
              "color": "white",
              "width": 0.5
             },
             "pattern": {
              "fillmode": "overlay",
              "size": 10,
              "solidity": 0.2
             }
            },
            "type": "bar"
           }
          ],
          "barpolar": [
           {
            "marker": {
             "line": {
              "color": "white",
              "width": 0.5
             },
             "pattern": {
              "fillmode": "overlay",
              "size": 10,
              "solidity": 0.2
             }
            },
            "type": "barpolar"
           }
          ],
          "carpet": [
           {
            "aaxis": {
             "endlinecolor": "rgb(36,36,36)",
             "gridcolor": "white",
             "linecolor": "white",
             "minorgridcolor": "white",
             "startlinecolor": "rgb(36,36,36)"
            },
            "baxis": {
             "endlinecolor": "rgb(36,36,36)",
             "gridcolor": "white",
             "linecolor": "white",
             "minorgridcolor": "white",
             "startlinecolor": "rgb(36,36,36)"
            },
            "type": "carpet"
           }
          ],
          "choropleth": [
           {
            "colorbar": {
             "outlinewidth": 1,
             "tickcolor": "rgb(36,36,36)",
             "ticks": "outside"
            },
            "type": "choropleth"
           }
          ],
          "contour": [
           {
            "colorbar": {
             "outlinewidth": 1,
             "tickcolor": "rgb(36,36,36)",
             "ticks": "outside"
            },
            "colorscale": [
             [
              0,
              "#440154"
             ],
             [
              0.1111111111111111,
              "#482878"
             ],
             [
              0.2222222222222222,
              "#3e4989"
             ],
             [
              0.3333333333333333,
              "#31688e"
             ],
             [
              0.4444444444444444,
              "#26828e"
             ],
             [
              0.5555555555555556,
              "#1f9e89"
             ],
             [
              0.6666666666666666,
              "#35b779"
             ],
             [
              0.7777777777777778,
              "#6ece58"
             ],
             [
              0.8888888888888888,
              "#b5de2b"
             ],
             [
              1,
              "#fde725"
             ]
            ],
            "type": "contour"
           }
          ],
          "contourcarpet": [
           {
            "colorbar": {
             "outlinewidth": 1,
             "tickcolor": "rgb(36,36,36)",
             "ticks": "outside"
            },
            "type": "contourcarpet"
           }
          ],
          "heatmap": [
           {
            "colorbar": {
             "outlinewidth": 1,
             "tickcolor": "rgb(36,36,36)",
             "ticks": "outside"
            },
            "colorscale": [
             [
              0,
              "#440154"
             ],
             [
              0.1111111111111111,
              "#482878"
             ],
             [
              0.2222222222222222,
              "#3e4989"
             ],
             [
              0.3333333333333333,
              "#31688e"
             ],
             [
              0.4444444444444444,
              "#26828e"
             ],
             [
              0.5555555555555556,
              "#1f9e89"
             ],
             [
              0.6666666666666666,
              "#35b779"
             ],
             [
              0.7777777777777778,
              "#6ece58"
             ],
             [
              0.8888888888888888,
              "#b5de2b"
             ],
             [
              1,
              "#fde725"
             ]
            ],
            "type": "heatmap"
           }
          ],
          "heatmapgl": [
           {
            "colorbar": {
             "outlinewidth": 1,
             "tickcolor": "rgb(36,36,36)",
             "ticks": "outside"
            },
            "colorscale": [
             [
              0,
              "#440154"
             ],
             [
              0.1111111111111111,
              "#482878"
             ],
             [
              0.2222222222222222,
              "#3e4989"
             ],
             [
              0.3333333333333333,
              "#31688e"
             ],
             [
              0.4444444444444444,
              "#26828e"
             ],
             [
              0.5555555555555556,
              "#1f9e89"
             ],
             [
              0.6666666666666666,
              "#35b779"
             ],
             [
              0.7777777777777778,
              "#6ece58"
             ],
             [
              0.8888888888888888,
              "#b5de2b"
             ],
             [
              1,
              "#fde725"
             ]
            ],
            "type": "heatmapgl"
           }
          ],
          "histogram": [
           {
            "marker": {
             "line": {
              "color": "white",
              "width": 0.6
             }
            },
            "type": "histogram"
           }
          ],
          "histogram2d": [
           {
            "colorbar": {
             "outlinewidth": 1,
             "tickcolor": "rgb(36,36,36)",
             "ticks": "outside"
            },
            "colorscale": [
             [
              0,
              "#440154"
             ],
             [
              0.1111111111111111,
              "#482878"
             ],
             [
              0.2222222222222222,
              "#3e4989"
             ],
             [
              0.3333333333333333,
              "#31688e"
             ],
             [
              0.4444444444444444,
              "#26828e"
             ],
             [
              0.5555555555555556,
              "#1f9e89"
             ],
             [
              0.6666666666666666,
              "#35b779"
             ],
             [
              0.7777777777777778,
              "#6ece58"
             ],
             [
              0.8888888888888888,
              "#b5de2b"
             ],
             [
              1,
              "#fde725"
             ]
            ],
            "type": "histogram2d"
           }
          ],
          "histogram2dcontour": [
           {
            "colorbar": {
             "outlinewidth": 1,
             "tickcolor": "rgb(36,36,36)",
             "ticks": "outside"
            },
            "colorscale": [
             [
              0,
              "#440154"
             ],
             [
              0.1111111111111111,
              "#482878"
             ],
             [
              0.2222222222222222,
              "#3e4989"
             ],
             [
              0.3333333333333333,
              "#31688e"
             ],
             [
              0.4444444444444444,
              "#26828e"
             ],
             [
              0.5555555555555556,
              "#1f9e89"
             ],
             [
              0.6666666666666666,
              "#35b779"
             ],
             [
              0.7777777777777778,
              "#6ece58"
             ],
             [
              0.8888888888888888,
              "#b5de2b"
             ],
             [
              1,
              "#fde725"
             ]
            ],
            "type": "histogram2dcontour"
           }
          ],
          "mesh3d": [
           {
            "colorbar": {
             "outlinewidth": 1,
             "tickcolor": "rgb(36,36,36)",
             "ticks": "outside"
            },
            "type": "mesh3d"
           }
          ],
          "parcoords": [
           {
            "line": {
             "colorbar": {
              "outlinewidth": 1,
              "tickcolor": "rgb(36,36,36)",
              "ticks": "outside"
             }
            },
            "type": "parcoords"
           }
          ],
          "pie": [
           {
            "automargin": true,
            "type": "pie"
           }
          ],
          "scatter": [
           {
            "fillpattern": {
             "fillmode": "overlay",
             "size": 10,
             "solidity": 0.2
            },
            "type": "scatter"
           }
          ],
          "scatter3d": [
           {
            "line": {
             "colorbar": {
              "outlinewidth": 1,
              "tickcolor": "rgb(36,36,36)",
              "ticks": "outside"
             }
            },
            "marker": {
             "colorbar": {
              "outlinewidth": 1,
              "tickcolor": "rgb(36,36,36)",
              "ticks": "outside"
             }
            },
            "type": "scatter3d"
           }
          ],
          "scattercarpet": [
           {
            "marker": {
             "colorbar": {
              "outlinewidth": 1,
              "tickcolor": "rgb(36,36,36)",
              "ticks": "outside"
             }
            },
            "type": "scattercarpet"
           }
          ],
          "scattergeo": [
           {
            "marker": {
             "colorbar": {
              "outlinewidth": 1,
              "tickcolor": "rgb(36,36,36)",
              "ticks": "outside"
             }
            },
            "type": "scattergeo"
           }
          ],
          "scattergl": [
           {
            "marker": {
             "colorbar": {
              "outlinewidth": 1,
              "tickcolor": "rgb(36,36,36)",
              "ticks": "outside"
             }
            },
            "type": "scattergl"
           }
          ],
          "scattermapbox": [
           {
            "marker": {
             "colorbar": {
              "outlinewidth": 1,
              "tickcolor": "rgb(36,36,36)",
              "ticks": "outside"
             }
            },
            "type": "scattermapbox"
           }
          ],
          "scatterpolar": [
           {
            "marker": {
             "colorbar": {
              "outlinewidth": 1,
              "tickcolor": "rgb(36,36,36)",
              "ticks": "outside"
             }
            },
            "type": "scatterpolar"
           }
          ],
          "scatterpolargl": [
           {
            "marker": {
             "colorbar": {
              "outlinewidth": 1,
              "tickcolor": "rgb(36,36,36)",
              "ticks": "outside"
             }
            },
            "type": "scatterpolargl"
           }
          ],
          "scatterternary": [
           {
            "marker": {
             "colorbar": {
              "outlinewidth": 1,
              "tickcolor": "rgb(36,36,36)",
              "ticks": "outside"
             }
            },
            "type": "scatterternary"
           }
          ],
          "surface": [
           {
            "colorbar": {
             "outlinewidth": 1,
             "tickcolor": "rgb(36,36,36)",
             "ticks": "outside"
            },
            "colorscale": [
             [
              0,
              "#440154"
             ],
             [
              0.1111111111111111,
              "#482878"
             ],
             [
              0.2222222222222222,
              "#3e4989"
             ],
             [
              0.3333333333333333,
              "#31688e"
             ],
             [
              0.4444444444444444,
              "#26828e"
             ],
             [
              0.5555555555555556,
              "#1f9e89"
             ],
             [
              0.6666666666666666,
              "#35b779"
             ],
             [
              0.7777777777777778,
              "#6ece58"
             ],
             [
              0.8888888888888888,
              "#b5de2b"
             ],
             [
              1,
              "#fde725"
             ]
            ],
            "type": "surface"
           }
          ],
          "table": [
           {
            "cells": {
             "fill": {
              "color": "rgb(237,237,237)"
             },
             "line": {
              "color": "white"
             }
            },
            "header": {
             "fill": {
              "color": "rgb(217,217,217)"
             },
             "line": {
              "color": "white"
             }
            },
            "type": "table"
           }
          ]
         },
         "layout": {
          "annotationdefaults": {
           "arrowhead": 0,
           "arrowwidth": 1
          },
          "autotypenumbers": "strict",
          "coloraxis": {
           "colorbar": {
            "outlinewidth": 1,
            "tickcolor": "rgb(36,36,36)",
            "ticks": "outside"
           }
          },
          "colorscale": {
           "diverging": [
            [
             0,
             "rgb(103,0,31)"
            ],
            [
             0.1,
             "rgb(178,24,43)"
            ],
            [
             0.2,
             "rgb(214,96,77)"
            ],
            [
             0.3,
             "rgb(244,165,130)"
            ],
            [
             0.4,
             "rgb(253,219,199)"
            ],
            [
             0.5,
             "rgb(247,247,247)"
            ],
            [
             0.6,
             "rgb(209,229,240)"
            ],
            [
             0.7,
             "rgb(146,197,222)"
            ],
            [
             0.8,
             "rgb(67,147,195)"
            ],
            [
             0.9,
             "rgb(33,102,172)"
            ],
            [
             1,
             "rgb(5,48,97)"
            ]
           ],
           "sequential": [
            [
             0,
             "#440154"
            ],
            [
             0.1111111111111111,
             "#482878"
            ],
            [
             0.2222222222222222,
             "#3e4989"
            ],
            [
             0.3333333333333333,
             "#31688e"
            ],
            [
             0.4444444444444444,
             "#26828e"
            ],
            [
             0.5555555555555556,
             "#1f9e89"
            ],
            [
             0.6666666666666666,
             "#35b779"
            ],
            [
             0.7777777777777778,
             "#6ece58"
            ],
            [
             0.8888888888888888,
             "#b5de2b"
            ],
            [
             1,
             "#fde725"
            ]
           ],
           "sequentialminus": [
            [
             0,
             "#440154"
            ],
            [
             0.1111111111111111,
             "#482878"
            ],
            [
             0.2222222222222222,
             "#3e4989"
            ],
            [
             0.3333333333333333,
             "#31688e"
            ],
            [
             0.4444444444444444,
             "#26828e"
            ],
            [
             0.5555555555555556,
             "#1f9e89"
            ],
            [
             0.6666666666666666,
             "#35b779"
            ],
            [
             0.7777777777777778,
             "#6ece58"
            ],
            [
             0.8888888888888888,
             "#b5de2b"
            ],
            [
             1,
             "#fde725"
            ]
           ]
          },
          "colorway": [
           "#1F77B4",
           "#FF7F0E",
           "#2CA02C",
           "#D62728",
           "#9467BD",
           "#8C564B",
           "#E377C2",
           "#7F7F7F",
           "#BCBD22",
           "#17BECF"
          ],
          "font": {
           "color": "rgb(36,36,36)"
          },
          "geo": {
           "bgcolor": "white",
           "lakecolor": "white",
           "landcolor": "white",
           "showlakes": true,
           "showland": true,
           "subunitcolor": "white"
          },
          "hoverlabel": {
           "align": "left"
          },
          "hovermode": "closest",
          "mapbox": {
           "style": "light"
          },
          "paper_bgcolor": "white",
          "plot_bgcolor": "white",
          "polar": {
           "angularaxis": {
            "gridcolor": "rgb(232,232,232)",
            "linecolor": "rgb(36,36,36)",
            "showgrid": false,
            "showline": true,
            "ticks": "outside"
           },
           "bgcolor": "white",
           "radialaxis": {
            "gridcolor": "rgb(232,232,232)",
            "linecolor": "rgb(36,36,36)",
            "showgrid": false,
            "showline": true,
            "ticks": "outside"
           }
          },
          "scene": {
           "xaxis": {
            "backgroundcolor": "white",
            "gridcolor": "rgb(232,232,232)",
            "gridwidth": 2,
            "linecolor": "rgb(36,36,36)",
            "showbackground": true,
            "showgrid": false,
            "showline": true,
            "ticks": "outside",
            "zeroline": false,
            "zerolinecolor": "rgb(36,36,36)"
           },
           "yaxis": {
            "backgroundcolor": "white",
            "gridcolor": "rgb(232,232,232)",
            "gridwidth": 2,
            "linecolor": "rgb(36,36,36)",
            "showbackground": true,
            "showgrid": false,
            "showline": true,
            "ticks": "outside",
            "zeroline": false,
            "zerolinecolor": "rgb(36,36,36)"
           },
           "zaxis": {
            "backgroundcolor": "white",
            "gridcolor": "rgb(232,232,232)",
            "gridwidth": 2,
            "linecolor": "rgb(36,36,36)",
            "showbackground": true,
            "showgrid": false,
            "showline": true,
            "ticks": "outside",
            "zeroline": false,
            "zerolinecolor": "rgb(36,36,36)"
           }
          },
          "shapedefaults": {
           "fillcolor": "black",
           "line": {
            "width": 0
           },
           "opacity": 0.3
          },
          "ternary": {
           "aaxis": {
            "gridcolor": "rgb(232,232,232)",
            "linecolor": "rgb(36,36,36)",
            "showgrid": false,
            "showline": true,
            "ticks": "outside"
           },
           "baxis": {
            "gridcolor": "rgb(232,232,232)",
            "linecolor": "rgb(36,36,36)",
            "showgrid": false,
            "showline": true,
            "ticks": "outside"
           },
           "bgcolor": "white",
           "caxis": {
            "gridcolor": "rgb(232,232,232)",
            "linecolor": "rgb(36,36,36)",
            "showgrid": false,
            "showline": true,
            "ticks": "outside"
           }
          },
          "title": {
           "x": 0.05
          },
          "xaxis": {
           "automargin": true,
           "gridcolor": "rgb(232,232,232)",
           "linecolor": "rgb(36,36,36)",
           "showgrid": false,
           "showline": true,
           "ticks": "outside",
           "title": {
            "standoff": 15
           },
           "zeroline": false,
           "zerolinecolor": "rgb(36,36,36)"
          },
          "yaxis": {
           "automargin": true,
           "gridcolor": "rgb(232,232,232)",
           "linecolor": "rgb(36,36,36)",
           "showgrid": false,
           "showline": true,
           "ticks": "outside",
           "title": {
            "standoff": 15
           },
           "zeroline": false,
           "zerolinecolor": "rgb(36,36,36)"
          }
         }
        },
        "width": 800,
        "xaxis": {
         "anchor": "y",
         "domain": [
          0,
          0.2888888888888889
         ]
        },
        "xaxis2": {
         "anchor": "y2",
         "domain": [
          0.35555555555555557,
          0.6444444444444445
         ]
        },
        "xaxis3": {
         "anchor": "y3",
         "domain": [
          0.7111111111111111,
          1
         ]
        },
        "yaxis": {
         "anchor": "x",
         "domain": [
          0,
          1
         ]
        },
        "yaxis2": {
         "anchor": "x2",
         "domain": [
          0,
          1
         ]
        },
        "yaxis3": {
         "anchor": "x3",
         "domain": [
          0,
          1
         ]
        }
       }
      }
     },
     "metadata": {},
     "output_type": "display_data"
    }
   ],
   "source": [
    "ticket = ['skip=1', 'skip=5','skip=10']\n",
    "computation_time=[2.956052065,0.034854889,0.005007029]\n",
    "\n",
    "fig = make_subplots(\n",
    "    rows=1, cols=3,\n",
    "    column_widths=[0.3,0.3,0.3],\n",
    "    row_heights=[1],\n",
    "    specs=[[{\"type\": \"bar\"}, {\"type\": \"bar\"},{\"type\": \"bar\"}]])\n",
    "\n",
    "# Add scattergeo globe map of volcano locations\n",
    "fig.add_trace(go.Bar(\n",
    "    x=ticket,\n",
    "    y=computation_time,\n",
    "    name='Computation Time (seconds)',\n",
    "    text=[2.956,0.035,0.005],\n",
    "    textposition='auto',\n",
    "    marker_color='indianred'),\n",
    "    row=1, col=1\n",
    ")\n",
    "\n",
    "# Add locations bar chart\n",
    "fig.add_trace(\n",
    "    go.Bar(x=ticket,\n",
    "    y=[0.770462465,0.741294526,0.718456931],\n",
    "    name='Maximal Persistence',\n",
    "    text=[0.77,0.74,0.72],\n",
    "    textposition='auto',\n",
    "    marker_color='lightsalmon'),\n",
    "    row=1, col=2\n",
    ")\n",
    "\n",
    "# Add 3d surface of volcano\n",
    "fig.add_trace(go.Bar(\n",
    "    x=ticket,\n",
    "    y=[703,141,71],\n",
    "    name='Number of Points',\n",
    "    text=[703,141,71],\n",
    "    textposition='auto',\n",
    "    marker_color='#ffb84d'),\n",
    "    row=1, col=3\n",
    ")\n",
    "\n",
    "fig.update_layout(\n",
    "    width=800,\n",
    "    height=200,\n",
    "    margin=dict(r=1, t=1, b=1, l=1),\n",
    "    template='simple_white',\n",
    ")\n",
    "\n",
    "fig.show()\n",
    "\n",
    "#pio.write_image(fig, 'E:/Topological_Analysis_of_Time_Series/pictures/pdf_graph_raw/skip_bar.pdf',scale=1, width=1080, height=300)\n"
   ]
  }
 ],
 "metadata": {
  "kernelspec": {
   "display_name": "Python 3",
   "language": "python",
   "name": "python3"
  },
  "language_info": {
   "codemirror_mode": {
    "name": "ipython",
    "version": 3
   },
   "file_extension": ".py",
   "mimetype": "text/x-python",
   "name": "python",
   "nbconvert_exporter": "python",
   "pygments_lexer": "ipython3",
   "version": "3.10.6"
  },
  "orig_nbformat": 4,
  "vscode": {
   "interpreter": {
    "hash": "865d8b2eb28e274047ba64063dfb6a2aabf0dfec4905d304d7a76618dae6fdd4"
   }
  }
 },
 "nbformat": 4,
 "nbformat_minor": 2
}
